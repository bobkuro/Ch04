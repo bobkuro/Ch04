{
 "cells": [
  {
   "cell_type": "markdown",
   "metadata": {},
   "source": [
    "# 4章　ニューラルネットワークの学習\n",
    "\n",
    "## 4.1 \"データ駆動\"ならびに\"訓練データとテストデータ\"\n",
    "訓練データセットを元にテストデータセットの画像はどのようにラベリングすればよいか、正答率があがるのかという研究が行われてきた。<br>\n",
    "例えば手書き数字の認識があげられるだろう。<br>\n",
    "黎明期、人が手書き文字の癖を加味しながらその文字が\"\"何\"\"であることのルールを探していた。<br>\n",
    "頭からひねり出す代わりに機械に学習させる動きが出てきた。<br>\n",
    "画像から\"特徴量\"を抽出して、パターンを機械に学習させた。<br>\n",
    "この時点では\"特徴量\"は人の考えたものであった。<br>\n",
    "今では特徴量の設定から学習まで機械に投げるニューラルネットワークがあるわけだ。<br>\n",
    "この手法でも簡単にうまくいくわけではなく、過学習のような問題が累積している。<br>\n",
    "\n",
    "## 4.2 損失関数\n",
    "過学習が起きる話は個人的に何度か触れているのでわかっているとは思うが、<br>\n",
    "任意の答えを出力する関数を求める為に多くの観点から学習させて精度を上げたいところだが、目的のものよりも必要以上に複雑になってしまうこと。<br>\n",
    "(本来はsin関数で済むところが10次関数くらいになっててオイオイといった感じの。)<br>\n",
    "![](ow.jpg\")\n",
    "\n",
    "\n",
    "### 4.2.1 2乗和誤差\n",
    "損失関数として有名なのは２乗誤差である。以下に数式を示す。くコ:彡<br>\n",
    "$$E= \\frac {1} {2\n",
    "} \\sum _k (y_k - t_k)^2$$\n",
    "上式のykはNNの出力でありソレに対応した確率、tkは教師データであり答えを指す。<br>\n",
    "MNISTのデータセットでうんにゃらした時を思い出しながら例を示す。<br>\n",
    "yとtは10個の要素からなるデータであり、2であることを判定したい。<br>\n",
    "2乗和誤差を定義してぐだぐだ言わずに突っ込んでみる。<br>"
   ]
  },
  {
   "cell_type": "code",
   "execution_count": null,
   "metadata": {
    "collapsed": true
   },
   "outputs": [],
   "source": [
    ">>> y=[0.1,0.05,0.6,0.0,0.05,0.1,0.0,0.1,0.0,0.0]\n",
    ">>> t=[0,0,1,0,0,0,0,0,0,0]\n",
    ">>> def mean_squared_error(y,t):\n",
    "...     return 0.5  * np.sum((y-t)**2)\n",
    ">>> mean_squared_error(np.array(y),np.array(t))\n",
    "0.097500000000000031\n",
    ">>> y=[0.1,0.05,0.1,0.0,0.05,0.1,0.0,0.6,0.5,0.0]\n",
    ">>> mean_squared_error(np.array(y),np.array(t))\n",
    "0.72250000000000003"
   ]
  },
  {
   "cell_type": "markdown",
   "metadata": {},
   "source": [
    "と、このように<br>\n",
    "yの要素の中で2を1番高い確率にした場合と、7を1番高い確率にした場合でエラー率が大きく違うことがわかるだろう。<br>\n",
    "よって1つ目の例のほうが教師データに適合している<br>\n",
    "\n",
    "### 4.2.2 交差エントロピー誤差\n",
    "以下に数式を示す。くコ:彡\n",
    "$$E=- \\sum _k t_k log y_k $$\n",
    "yとtは4.2.1と同じなので省略<br>\n",
    "コレの良い点は正解ラベルとなる出力の結果を上式に突っ込むだけで誤差が分かるということにあることであろう。<br>\n",
    "グラフより逆算がしやすく、感覚的にわかりやすいね。やったね。<br>\n",
    "同じように示す。<br>"
   ]
  },
  {
   "cell_type": "code",
   "execution_count": null,
   "metadata": {
    "collapsed": true,
    "slideshow": {
     "slide_type": "-"
    }
   },
   "outputs": [],
   "source": [
    ">>> def cross_entropy_error(y,t):\n",
    "...     delta = 1e-7\n",
    "...     return -np.sum(t * np.log(y+delta))\n",
    ">>> cross_entropy_error(np.array(y),np.array(t))\n",
    "0.51082545709933802\n",
    ">>> cross_entropy_error(np.array(y),np.array(t))\n",
    "2.3025840929945458"
   ]
  },
  {
   "cell_type": "markdown",
   "metadata": {},
   "source": [
    "(ここまでは此の中でプログラムを走らせることを忘れていたことを許して欲しい。)"
   ]
  },
  {
   "cell_type": "markdown",
   "metadata": {},
   "source": [
    "### 4.2.3 ミニバッチ学習\n",
    "これまでは１つのデータに対しての損失関数の話をしてきましたここからは全てのデータに対して行う。<br>\n",
    "N個のデータ用に拡張しただけなので式は省略する。<br>\n",
    "MNISTはご存知の通り６万ものデータがあり、その全てから学習するのはコストがかかる。ここで訓練データからデータの一部を取り出して近似的に学習をする。これをミニバッチ学習と言う。<br>"
   ]
  },
  {
   "cell_type": "code",
   "execution_count": 4,
   "metadata": {
    "collapsed": false
   },
   "outputs": [
    {
     "name": "stdout",
     "output_type": "stream",
     "text": [
      "(60000, 784)\n",
      "(60000, 10)\n"
     ]
    }
   ],
   "source": [
    "import sys,os\n",
    "sys.path.append(os.pardir)\n",
    "import numpy as np\n",
    "from dataset.mnist import load_mnist\n",
    "(x_train,t_train), (x_test, t_test) = \\\n",
    "    load_mnist( normalize = True, one_hot_label=True)\n",
    "    \n",
    "print(x_train.shape) \n",
    "print(t_train.shape)"
   ]
  },
  {
   "cell_type": "markdown",
   "metadata": {},
   "source": [
    "６万の28*28のデータとワンホットラベルを作れたのがわかった。<br>次にバッチ学習の為に適当に取り出す画像を選ぶ。"
   ]
  },
  {
   "cell_type": "code",
   "execution_count": 7,
   "metadata": {
    "collapsed": false
   },
   "outputs": [
    {
     "data": {
      "text/plain": [
       "array([27207, 24440, 37582, 58044, 49885, 25599, 47588,  9344, 22097, 43232])"
      ]
     },
     "execution_count": 7,
     "metadata": {},
     "output_type": "execute_result"
    }
   ],
   "source": [
    "np.random.choice(60000,10)"
   ]
  },
  {
   "cell_type": "markdown",
   "metadata": {},
   "source": [
    "バッチ対応版の交差エントロピーの実装を以下に記述する。<br>"
   ]
  },
  {
   "cell_type": "code",
   "execution_count": 8,
   "metadata": {
    "collapsed": true
   },
   "outputs": [],
   "source": [
    "def cross_entropy_error(y,t):\n",
    "    if y.ndim == 1:\n",
    "        t = t.reshape(1, t.size)\n",
    "        y = y.reshape(1, y.size)\n",
    "        \n",
    "    batch_size = y.reshape[0]\n",
    "    return -np.sum(t * np.log(y)) / batch_size\n",
    "#    return -np.sum(np.log(y[np.arrange(batch_size),t])) / batch_size ワンホットラベルでなく数字ラベルの場合"
   ]
  },
  {
   "cell_type": "markdown",
   "metadata": {},
   "source": [
    "## 4.3 数値微分\n",
    "### 4.3.1 微分\n",
    "軽く微分の復習を。数値微分の定義と言えば以下である。くコ:彡\n",
    "    $$ \\frac {df(x)}{dx} = lim_{h \\rightarrow 0} \\frac {f(x+h)+f(x)} {h} $$\n",
    "pythonでは丸め誤差があることを念頭に置いて、微小な値hは10の-4乗程度を使うと良い結果が得られることがわかっている。<br>\n",
    "また、xとx+hから求めた接線であるので、実は真の接線ではない。<br>ここで(x+h)と(x-h)での関数fの差分を調べることで解消することにする。\n"
   ]
  },
  {
   "cell_type": "code",
   "execution_count": 15,
   "metadata": {
    "collapsed": true
   },
   "outputs": [],
   "source": [
    "def numerical_diff(f,x):\n",
    "    h= 1e-4\n",
    "    return (f(x+h) - f(x-h))/(2*h)"
   ]
  },
  {
   "cell_type": "markdown",
   "metadata": {},
   "source": [
    "### 4.3.2 数値微分の例\n",
    "以下のような簡単な関数を微分して精度を確かめてみる。くコ:彡\n",
    "$$ y=0.01x^2 + 0.1x $$\n",
    "Pythonで実装したものが以下である。くコ:彡"
   ]
  },
  {
   "cell_type": "code",
   "execution_count": 13,
   "metadata": {
    "collapsed": true
   },
   "outputs": [],
   "source": [
    "def function_1(x):\n",
    "    return 0.01*x**2 + 0.1*x"
   ]
  },
  {
   "cell_type": "code",
   "execution_count": 19,
   "metadata": {
    "collapsed": false
   },
   "outputs": [
    {
     "data": {
      "text/plain": [
       "0.1999999999990898"
      ]
     },
     "execution_count": 19,
     "metadata": {},
     "output_type": "execute_result"
    }
   ],
   "source": [
    "import numpy as np\n",
    "x=np.arange(0.0, 20.0, 0.1)\n",
    "y=function_1(x)\n",
    "\n",
    "numerical_diff(function_1,5)"
   ]
  },
  {
   "cell_type": "code",
   "execution_count": 20,
   "metadata": {
    "collapsed": false
   },
   "outputs": [
    {
     "data": {
      "text/plain": [
       "0.2999999999986347"
      ]
     },
     "execution_count": 20,
     "metadata": {},
     "output_type": "execute_result"
    }
   ],
   "source": [
    "numerical_diff(function_1,10)"
   ]
  },
  {
   "cell_type": "markdown",
   "metadata": {},
   "source": [
    "10の-13乗レベルで誤差が小さい！すごい！\n",
    "\n",
    "### 4.3.3 偏微分\n",
    "続いて以下のような数式について見ていく。<br>\n",
    "$$ f(x_{0} , x_{1}) =x_{0}^2 +x_{1}^2 $$\n",
    "Pythonでは以下の様に書ける。くコ:彡"
   ]
  },
  {
   "cell_type": "code",
   "execution_count": 21,
   "metadata": {
    "collapsed": true
   },
   "outputs": [],
   "source": [
    "def function_2(x):\n",
    "    return x[0]**2+x[1]**2"
   ]
  },
  {
   "cell_type": "markdown",
   "metadata": {},
   "source": [
    "以下からはx0=3,x1=4のときのそれぞれの微分について求める。くコ:彡"
   ]
  },
  {
   "cell_type": "code",
   "execution_count": 24,
   "metadata": {
    "collapsed": false
   },
   "outputs": [
    {
     "data": {
      "text/plain": [
       "6.00000000000378"
      ]
     },
     "execution_count": 24,
     "metadata": {},
     "output_type": "execute_result"
    }
   ],
   "source": [
    "def function_tmp0(x0): #x0に対する偏微分を求める \n",
    "    return x0*x0+4.0**2.0\n",
    "\n",
    "numerical_diff(function_tmp0,3.0)"
   ]
  },
  {
   "cell_type": "code",
   "execution_count": 25,
   "metadata": {
    "collapsed": false
   },
   "outputs": [
    {
     "data": {
      "text/plain": [
       "7.999999999999119"
      ]
     },
     "execution_count": 25,
     "metadata": {},
     "output_type": "execute_result"
    }
   ],
   "source": [
    "def function_tmp1(x1): #x1に対する偏微分を求める \n",
    "    return 3.0**2.0+x1*x1\n",
    "\n",
    "numerical_diff(function_tmp0,4.0)"
   ]
  },
  {
   "cell_type": "markdown",
   "metadata": {},
   "source": [
    "このように複数の変数があっても傾きは求められるよということだ。\n",
    "\n",
    "## 4.4 勾配\n",
    "先程は2変数についてそれぞれ計算をした。<br>ここからはまとめて計算したいご要望にお答えする。"
   ]
  },
  {
   "cell_type": "code",
   "execution_count": 29,
   "metadata": {
    "collapsed": false
   },
   "outputs": [],
   "source": [
    "def numerical_gradient(f,x):\n",
    "    h = 1e-4\n",
    "    grad = np.zeros_like(x)\n",
    "    \n",
    "    for idx in range(x.size):\n",
    "        tmp_val = x[idx]\n",
    "        x[idx]=tmp_val+h\n",
    "        fxh1=f(x)\n",
    "\n",
    "        x[idx]=tmp_val-h\n",
    "        fxh2=f(x)\n",
    "\n",
    "        grad[idx] = (fxh1- fxh2)/(2*h)\n",
    "        x[idx] = tmp_val\n",
    "    return grad\n"
   ]
  },
  {
   "cell_type": "code",
   "execution_count": 30,
   "metadata": {
    "collapsed": false
   },
   "outputs": [
    {
     "data": {
      "text/plain": [
       "array([ 6.,  8.])"
      ]
     },
     "execution_count": 30,
     "metadata": {},
     "output_type": "execute_result"
    }
   ],
   "source": [
    "numerical_gradient(function_2, np.array([3.0,4.0]))"
   ]
  },
  {
   "cell_type": "markdown",
   "metadata": {},
   "source": [
    "やったあぁ！さっきの(6.00000000000378,7.999999999999119)とちっかいゾ。"
   ]
  },
  {
   "cell_type": "code",
   "execution_count": 31,
   "metadata": {
    "collapsed": false
   },
   "outputs": [
    {
     "data": {
      "text/plain": [
       "array([-6., -8.])"
      ]
     },
     "execution_count": 31,
     "metadata": {},
     "output_type": "execute_result"
    }
   ],
   "source": [
    "numerical_gradient(function_2, np.array([-3.0,-4.0]))"
   ]
  },
  {
   "cell_type": "markdown",
   "metadata": {},
   "source": [
    "勾配がマイナスのこともある。<br>これですり鉢状のfunction_2の最小値を探ることが出来るのがわかるだろう。\n"
   ]
  },
  {
   "cell_type": "markdown",
   "metadata": {},
   "source": [
    "### 4.4.1 勾配法\n",
    "先程まで勾配が…とか傾きがマイナスが…と少しずつ述べてきたがここから手法として本格的に考えていく。以下に勾配法の数式を表す。くコ:彡\n",
    "$$ x_{0}=x_{0} - \\eta \\frac{\\partial f}{\\partial x_{0}}  $$\n",
    "ηは更新の量を表し、学習率と呼ばれる。<br>1回の学習でどれだけ学習とパラメータの更新をするかをきめる重要なファクターである。\n",
    "\n",
    "fは最適化したい関数、init_xは初期値、lrは学習率、step_numを勾配法の繰り返し回数とする。<br>関数の傾きを求めて以下にPythonで実装したものを示す。くコ:彡"
   ]
  },
  {
   "cell_type": "code",
   "execution_count": 32,
   "metadata": {
    "collapsed": true
   },
   "outputs": [],
   "source": [
    "def gradient_descent(f,init_x,lr=0.01,step_num=100):\n",
    "    x=init_x\n",
    "    for i in range(step_num):\n",
    "        grad = numerical_gradient(f,x)\n",
    "        x -= lr * grad\n",
    "    return x"
   ]
  },
  {
   "cell_type": "markdown",
   "metadata": {},
   "source": [
    "初期位置を(-3.0,4.0)として勾配法を用いて探索をして見る。<br>\n",
    "引数を見てくれればどんな感じかは察せると思う。<br>以下に成功例、学習率が大きすぎる場合、小さすぎる場合についてそれぞれ例を出す。くコ:彡 "
   ]
  },
  {
   "cell_type": "code",
   "execution_count": 40,
   "metadata": {
    "collapsed": false
   },
   "outputs": [
    {
     "data": {
      "text/plain": [
       "array([ -6.11110793e-10,   8.14814391e-10])"
      ]
     },
     "execution_count": 40,
     "metadata": {},
     "output_type": "execute_result"
    }
   ],
   "source": [
    "init_x=np.array([-3.0,4.0])\n",
    "gradient_descent(function_2, init_x=init_x, lr=0.1, step_num=100)"
   ]
  },
  {
   "cell_type": "code",
   "execution_count": 38,
   "metadata": {
    "collapsed": false
   },
   "outputs": [
    {
     "data": {
      "text/plain": [
       "array([ -2.58983747e+13,  -1.29524862e+12])"
      ]
     },
     "execution_count": 38,
     "metadata": {},
     "output_type": "execute_result"
    }
   ],
   "source": [
    "init_x=np.array([-3.0,4.0])\n",
    "gradient_descent(function_2, init_x=init_x, lr=10, step_num=100)"
   ]
  },
  {
   "cell_type": "code",
   "execution_count": 39,
   "metadata": {
    "collapsed": false
   },
   "outputs": [
    {
     "data": {
      "text/plain": [
       "array([-2.99999994,  3.99999992])"
      ]
     },
     "execution_count": 39,
     "metadata": {},
     "output_type": "execute_result"
    }
   ],
   "source": [
    "init_x=np.array([-3.0,4.0])\n",
    "gradient_descent(function_2, init_x=init_x, lr=1e-10, step_num=100)"
   ]
  },
  {
   "cell_type": "markdown",
   "metadata": {},
   "source": [
    "### 4.4.2 NNに対する勾配\n",
    "ここで2×3の形状の重みWだけ持つNNがある。<br>損失関数をLで表す場合を考える。\n",
    "<br>行列で表すとWと損失関数の変化を表す行列は以下のように表せる。くコ:彡\n",
    "$$\n",
    "  W = \\left(\n",
    "    \\begin{array}{ccc}\n",
    "      W_{11} & W_{21} & W_{31} \\\\\n",
    "      W_{12} & W_{22} & W_{32} \\\\\n",
    "    \\end{array}\n",
    "  \\right)\n",
    "$$\n",
    "$$\n",
    "  \\frac{\\delta L}{\\delta W} = \\left(\n",
    "    \\begin{array}{ccc}\n",
    "      \\frac{\\delta L}{\\delta w_{11}} & \\frac{\\delta L}{\\delta w_{21}} & \\frac{\\delta L}{\\delta w_{31}} \\\\\n",
    "      \\frac{\\delta L}{\\delta w_{12}} & \\frac{\\delta L}{\\delta w_{22}} & \\frac{\\delta L}{\\delta w_{32}} \\\\\n",
    "    \\end{array}\n",
    "  \\right)\n",
    "$$"
   ]
  },
  {
   "cell_type": "code",
   "execution_count": 2,
   "metadata": {
    "collapsed": false
   },
   "outputs": [],
   "source": [
    "import sys, os\n",
    "sys.path.append(os.pardir)  # 親ディレクトリのファイルをインポートするための設定\n",
    "import numpy as np\n",
    "from common.functions import softmax, cross_entropy_error\n",
    "from common.gradient import numerical_gradient\n",
    "\n",
    "\n",
    "class simpleNet:\n",
    "    def __init__(self):\n",
    "        self.W = np.random.rand(2,3)\n",
    "\n",
    "    def predict(self, x):\n",
    "        return np.dot(x, self.W)\n",
    "\n",
    "    def loss(self, x, t):\n",
    "        z = self.predict(x)\n",
    "        y = softmax(z)\n",
    "        loss = cross_entropy_error(y, t)\n",
    "\n",
    "        return loss"
   ]
  },
  {
   "cell_type": "code",
   "execution_count": 29,
   "metadata": {
    "collapsed": false
   },
   "outputs": [
    {
     "name": "stdout",
     "output_type": "stream",
     "text": [
      "[[ 0.44936032  0.26360891  0.17456213]\n",
      " [ 0.37696559  0.97913008  0.20215002]]\n"
     ]
    }
   ],
   "source": [
    "net =simpleNet()\n",
    "print(net.W)"
   ]
  },
  {
   "cell_type": "code",
   "execution_count": 30,
   "metadata": {
    "collapsed": false
   },
   "outputs": [
    {
     "name": "stdout",
     "output_type": "stream",
     "text": [
      "[ 0.60888522  1.03938242  0.2866723 ]\n"
     ]
    }
   ],
   "source": [
    "x=np.array([0.6,0.9])\n",
    "p=net.predict(x)\n",
    "print(p)"
   ]
  },
  {
   "cell_type": "code",
   "execution_count": 31,
   "metadata": {
    "collapsed": false
   },
   "outputs": [
    {
     "data": {
      "text/plain": [
       "1"
      ]
     },
     "execution_count": 31,
     "metadata": {},
     "output_type": "execute_result"
    }
   ],
   "source": [
    "np.argmax(p)"
   ]
  },
  {
   "cell_type": "code",
   "execution_count": 35,
   "metadata": {
    "collapsed": false
   },
   "outputs": [
    {
     "data": {
      "text/plain": [
       "1.1825139802000499"
      ]
     },
     "execution_count": 35,
     "metadata": {},
     "output_type": "execute_result"
    }
   ],
   "source": [
    "t=np.array([1,0,0])\n",
    "net.loss(x,t)"
   ]
  },
  {
   "cell_type": "code",
   "execution_count": 36,
   "metadata": {
    "collapsed": false
   },
   "outputs": [
    {
     "data": {
      "text/plain": [
       "0.75201678553279705"
      ]
     },
     "execution_count": 36,
     "metadata": {},
     "output_type": "execute_result"
    }
   ],
   "source": [
    "t=np.array([0,1,0])\n",
    "net.loss(x,t)"
   ]
  },
  {
   "cell_type": "code",
   "execution_count": 37,
   "metadata": {
    "collapsed": false
   },
   "outputs": [
    {
     "data": {
      "text/plain": [
       "1.5047269085428816"
      ]
     },
     "execution_count": 37,
     "metadata": {},
     "output_type": "execute_result"
    }
   ],
   "source": [
    "t=np.array([0,0,1])\n",
    "net.loss(x,t)"
   ]
  },
  {
   "cell_type": "code",
   "execution_count": 26,
   "metadata": {
    "collapsed": false
   },
   "outputs": [
    {
     "name": "stdout",
     "output_type": "stream",
     "text": [
      "[[ 0.2225752   0.2094516  -0.43202679]\n",
      " [ 0.33386279  0.3141774  -0.64804019]]\n"
     ]
    }
   ],
   "source": [
    "def f(W):\n",
    "    return net.loss(x,t)\n",
    "dW = numerical_gradient(f,net.W)\n",
    "print(dW)"
   ]
  },
  {
   "cell_type": "markdown",
   "metadata": {},
   "source": [
    "numerical_gradient(f,net.W)の結果はdwとなり、形状が2×3の二次元配列となる。<br>\n",
    "dWの中身を見ると1行1列目の値hogeから、Wの値をhだけ増やすと、損失関数の値がh*hogeの分だけ増加することを意味する。<br>\n",
    "また、マイナスの項目を見ると、損失関数が減少する。<br>\n",
    "損失関数を減少させる観点おいてマイナスの項目の方が大きく貢献しているのだ。"
   ]
  },
  {
   "cell_type": "markdown",
   "metadata": {},
   "source": [
    "## 4.5 学習アルゴリズムの実行\n",
    "ここまで駆け足でしたが、損失関数、ミニバッチ、勾配、勾配降下法について勉強してきました。<br>これらを用いてNNの学習手順をまとめて行きます。\n",
    "#### 前提\n",
    "ニューラルネットワークは、適応可能な重みとバイアスがありこの２つを訓練データに適応するように調整することを学習と呼ぶ。\n",
    "#### ステップ１ ミニバッチ\n",
    "訓練データの中からランダムに一部のデータを選び出す。その選ばれたデータをミニバッチと言う。ここではそのミニバッチの損失関数の値を減らすことを目的とする。\n",
    "#### ステップ２ 勾配の算出\n",
    "ミニバッチの損失関数を減らす為に、各重みのパラメータの勾配を求める。勾配は、損失関数の値を最も減らす方向を示す。\n",
    "#### ステップ３ パラメータの更新\n",
    "重みパラメータを勾配方向に微小だが更新する\n",
    "#### ステップ４ 繰り返す\n",
    "<br><br>\n",
    "\n",
    "この手法は確率的勾配降下法と呼ばれている。"
   ]
  },
  {
   "cell_type": "code",
   "execution_count": 38,
   "metadata": {
    "collapsed": true
   },
   "outputs": [],
   "source": [
    "# coding: utf-8\n",
    "import sys, os\n",
    "sys.path.append(os.pardir)  # 親ディレクトリのファイルをインポートするための設定\n",
    "from common.functions import *\n",
    "from common.gradient import numerical_gradient\n",
    "\n",
    "\n",
    "class TwoLayerNet:\n",
    "\n",
    "    def __init__(self, input_size, hidden_size, output_size, weight_init_std=0.01):\n",
    "        # 重みの初期化\n",
    "        self.params = {}\n",
    "        self.params['W1'] = weight_init_std * np.random.randn(input_size, hidden_size)\n",
    "        self.params['b1'] = np.zeros(hidden_size)\n",
    "        self.params['W2'] = weight_init_std * np.random.randn(hidden_size, output_size)\n",
    "        self.params['b2'] = np.zeros(output_size)\n",
    "\n",
    "    def predict(self, x):\n",
    "        W1, W2 = self.params['W1'], self.params['W2']\n",
    "        b1, b2 = self.params['b1'], self.params['b2']\n",
    "    \n",
    "        a1 = np.dot(x, W1) + b1\n",
    "        z1 = sigmoid(a1)\n",
    "        a2 = np.dot(z1, W2) + b2\n",
    "        y = softmax(a2)\n",
    "        \n",
    "        return y\n",
    "        \n",
    "    # x:入力データ, t:教師データ\n",
    "    def loss(self, x, t):\n",
    "        y = self.predict(x)\n",
    "        \n",
    "        return cross_entropy_error(y, t)\n",
    "    \n",
    "    def accuracy(self, x, t):\n",
    "        y = self.predict(x)\n",
    "        y = np.argmax(y, axis=1)\n",
    "        t = np.argmax(t, axis=1)\n",
    "        \n",
    "        accuracy = np.sum(y == t) / float(x.shape[0])\n",
    "        return accuracy\n",
    "        \n",
    "    # x:入力データ, t:教師データ\n",
    "    def numerical_gradient(self, x, t):\n",
    "        loss_W = lambda W: self.loss(x, t)\n",
    "        \n",
    "        grads = {}\n",
    "        grads['W1'] = numerical_gradient(loss_W, self.params['W1'])\n",
    "        grads['b1'] = numerical_gradient(loss_W, self.params['b1'])\n",
    "        grads['W2'] = numerical_gradient(loss_W, self.params['W2'])\n",
    "        grads['b2'] = numerical_gradient(loss_W, self.params['b2'])\n",
    "        \n",
    "        return grads\n",
    "        \n",
    "    def gradient(self, x, t):\n",
    "        W1, W2 = self.params['W1'], self.params['W2']\n",
    "        b1, b2 = self.params['b1'], self.params['b2']\n",
    "        grads = {}\n",
    "        \n",
    "        batch_num = x.shape[0]\n",
    "        \n",
    "        # forward\n",
    "        a1 = np.dot(x, W1) + b1\n",
    "        z1 = sigmoid(a1)\n",
    "        a2 = np.dot(z1, W2) + b2\n",
    "        y = softmax(a2)\n",
    "        \n",
    "        # backward\n",
    "        dy = (y - t) / batch_num\n",
    "        grads['W2'] = np.dot(z1.T, dy)\n",
    "        grads['b2'] = np.sum(dy, axis=0)\n",
    "        \n",
    "        da1 = np.dot(dy, W2.T)\n",
    "        dz1 = sigmoid_grad(a1) * da1\n",
    "        grads['W1'] = np.dot(x.T, dz1)\n",
    "        grads['b1'] = np.sum(dz1, axis=0)\n",
    "\n",
    "        return grads"
   ]
  },
  {
   "cell_type": "code",
   "execution_count": 41,
   "metadata": {
    "collapsed": false
   },
   "outputs": [
    {
     "name": "stdout",
     "output_type": "stream",
     "text": [
      "Downloading train-images-idx3-ubyte.gz ... \n",
      "Done\n",
      "Downloading train-labels-idx1-ubyte.gz ... \n",
      "Done\n",
      "Downloading t10k-labels-idx1-ubyte.gz ... \n",
      "Done\n",
      "Downloading t10k-images-idx3-ubyte.gz ... \n",
      "Done\n",
      "Converting train-images-idx3-ubyte.gz to NumPy Array ...\n",
      "Done\n",
      "Converting train-labels-idx1-ubyte.gz to NumPy Array ...\n",
      "Done\n",
      "Converting t10k-images-idx3-ubyte.gz to NumPy Array ...\n",
      "Done\n",
      "Converting t10k-labels-idx1-ubyte.gz to NumPy Array ...\n",
      "Done\n",
      "Creating pickle file ...\n",
      "Done!\n",
      "train acc, test acc | 0.0993, 0.1032\n",
      "train acc, test acc | 0.790833333333, 0.793\n",
      "train acc, test acc | 0.878166666667, 0.8827\n",
      "train acc, test acc | 0.899766666667, 0.9036\n",
      "train acc, test acc | 0.908733333333, 0.9108\n",
      "train acc, test acc | 0.9154, 0.9161\n",
      "train acc, test acc | 0.91985, 0.9207\n",
      "train acc, test acc | 0.923233333333, 0.9255\n",
      "train acc, test acc | 0.926783333333, 0.9293\n",
      "train acc, test acc | 0.930583333333, 0.9322\n",
      "train acc, test acc | 0.9327, 0.9342\n",
      "train acc, test acc | 0.936266666667, 0.9363\n",
      "train acc, test acc | 0.9392, 0.9395\n",
      "train acc, test acc | 0.940666666667, 0.94\n",
      "train acc, test acc | 0.94245, 0.9405\n",
      "train acc, test acc | 0.944633333333, 0.9427\n",
      "train acc, test acc | 0.946616666667, 0.9465\n"
     ]
    },
    {
     "data": {
      "image/png": "[encoded data removed]",
      "text/plain": [
       "<matplotlib.figure.Figure at 0x10b318978>"
      ]
     },
     "metadata": {},
     "output_type": "display_data"
    }
   ],
   "source": [
    "# coding: utf-8\n",
    "import sys, os\n",
    "sys.path.append(os.pardir)  # 親ディレクトリのファイルをインポートするための設定\n",
    "import numpy as np\n",
    "import matplotlib.pyplot as plt\n",
    "from dataset.mnist import load_mnist\n",
    "from two_layer_net import TwoLayerNet\n",
    "\n",
    "# データの読み込み\n",
    "(x_train, t_train), (x_test, t_test) = load_mnist(normalize=True, one_hot_label=True)\n",
    "\n",
    "network = TwoLayerNet(input_size=784, hidden_size=50, output_size=10)\n",
    "\n",
    "iters_num = 10000  # 繰り返しの回数を適宜設定する\n",
    "train_size = x_train.shape[0]\n",
    "batch_size = 100\n",
    "learning_rate = 0.1\n",
    "\n",
    "train_loss_list = []\n",
    "train_acc_list = []\n",
    "test_acc_list = []\n",
    "\n",
    "iter_per_epoch = max(train_size / batch_size, 1)\n",
    "\n",
    "for i in range(iters_num):\n",
    "    batch_mask = np.random.choice(train_size, batch_size)\n",
    "    x_batch = x_train[batch_mask]\n",
    "    t_batch = t_train[batch_mask]\n",
    "    \n",
    "    # 勾配の計算\n",
    "    #grad = network.numerical_gradient(x_batch, t_batch)\n",
    "    grad = network.gradient(x_batch, t_batch)\n",
    "    \n",
    "    # パラメータの更新\n",
    "    for key in ('W1', 'b1', 'W2', 'b2'):\n",
    "        network.params[key] -= learning_rate * grad[key]\n",
    "    \n",
    "    loss = network.loss(x_batch, t_batch)\n",
    "    train_loss_list.append(loss)\n",
    "    \n",
    "    if i % iter_per_epoch == 0:\n",
    "        train_acc = network.accuracy(x_train, t_train)\n",
    "        test_acc = network.accuracy(x_test, t_test)\n",
    "        train_acc_list.append(train_acc)\n",
    "        test_acc_list.append(test_acc)\n",
    "        print(\"train acc, test acc | \" + str(train_acc) + \", \" + str(test_acc))\n",
    "\n",
    "# グラフの描画\n",
    "markers = {'train': 'o', 'test': 's'}\n",
    "x = np.arange(len(train_acc_list))\n",
    "plt.plot(x, train_acc_list, label='train acc')\n",
    "plt.plot(x, test_acc_list, label='test acc', linestyle='--')\n",
    "plt.xlabel(\"epochs\")\n",
    "plt.ylabel(\"accuracy\")\n",
    "plt.ylim(0, 1.0)\n",
    "plt.legend(loc='lower right')\n",
    "plt.show()"
   ]
  },
  {
   "cell_type": "code",
   "execution_count": null,
   "metadata": {
    "collapsed": true
   },
   "outputs": [],
   "source": []
  }
 ],
 "metadata": {
  "celltoolbar": "Slideshow",
  "kernelspec": {
   "display_name": "Python 3",
   "language": "python",
   "name": "python3"
  },
  "language_info": {
   "codemirror_mode": {
    "name": "ipython",
    "version": 3
   },
   "file_extension": ".py",
   "mimetype": "text/x-python",
   "name": "python",
   "nbconvert_exporter": "python",
   "pygments_lexer": "ipython3",
   "version": "3.5.2"
  }
 },
 "nbformat": 4,
 "nbformat_minor": 1
}
